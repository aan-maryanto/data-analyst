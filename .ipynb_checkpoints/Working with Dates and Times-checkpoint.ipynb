{
 "cells": [
  {
   "cell_type": "code",
   "execution_count": 3,
   "id": "64f7c97e",
   "metadata": {},
   "outputs": [],
   "source": [
    "import pandas as pd\n",
    "import datetime as dt"
   ]
  },
  {
   "cell_type": "markdown",
   "id": "0ee555ca",
   "metadata": {},
   "source": [
    "# Review of Python's datetime module"
   ]
  },
  {
   "cell_type": "code",
   "execution_count": 9,
   "id": "ddf1f626",
   "metadata": {},
   "outputs": [],
   "source": [
    "someday = dt.date(2010, 12, 20)"
   ]
  },
  {
   "cell_type": "code",
   "execution_count": 17,
   "id": "07dff375",
   "metadata": {},
   "outputs": [
    {
     "data": {
      "text/plain": [
       "'2010-12-20'"
      ]
     },
     "execution_count": 17,
     "metadata": {},
     "output_type": "execute_result"
    }
   ],
   "source": [
    "someday.year\n",
    "someday.month\n",
    "someday.day\n",
    "str(someday)"
   ]
  },
  {
   "cell_type": "code",
   "execution_count": 20,
   "id": "8c539ce0",
   "metadata": {},
   "outputs": [],
   "source": [
    "sometime = dt.datetime(2010, 12, 20, 17, 20, 20)"
   ]
  },
  {
   "cell_type": "code",
   "execution_count": 30,
   "id": "d0fb7138",
   "metadata": {},
   "outputs": [
    {
     "data": {
      "text/plain": [
       "'2010-12-20 17:20:20'"
      ]
     },
     "execution_count": 30,
     "metadata": {},
     "output_type": "execute_result"
    }
   ],
   "source": [
    "sometime.year\n",
    "sometime.month\n",
    "sometime.day\n",
    "sometime.hour\n",
    "sometime.minute\n",
    "sometime.second\n",
    "str(sometime)"
   ]
  },
  {
   "cell_type": "markdown",
   "id": "3059df1a",
   "metadata": {},
   "source": [
    "# The pandas timestamp object"
   ]
  },
  {
   "cell_type": "code",
   "execution_count": 33,
   "id": "0fd24086",
   "metadata": {},
   "outputs": [
    {
     "data": {
      "text/plain": [
       "Timestamp('2020-01-01 00:00:00')"
      ]
     },
     "execution_count": 33,
     "metadata": {},
     "output_type": "execute_result"
    }
   ],
   "source": [
    "pd.Timestamp(\"2020-01-01\")\n",
    "pd.Timestamp(\"2020/01/01\")\n",
    "# bisa di input dengan format datetime apapun"
   ]
  },
  {
   "cell_type": "markdown",
   "id": "604bcf37",
   "metadata": {},
   "source": [
    "# The DateTimeIndex"
   ]
  },
  {
   "cell_type": "code",
   "execution_count": 36,
   "id": "22f2b94f",
   "metadata": {},
   "outputs": [],
   "source": [
    "dates = [\"2021-10-29\", \"2021-10-30\", \"2021-10-31\"]\n",
    "dtindex =pd.DatetimeIndex(dates)"
   ]
  },
  {
   "cell_type": "code",
   "execution_count": 37,
   "id": "53637f1d",
   "metadata": {},
   "outputs": [
    {
     "data": {
      "text/plain": [
       "2021-10-29    100\n",
       "2021-10-30    200\n",
       "2021-10-31    300\n",
       "dtype: int64"
      ]
     },
     "execution_count": 37,
     "metadata": {},
     "output_type": "execute_result"
    }
   ],
   "source": [
    "values = [100, 200, 300]\n",
    "pd.Series(values, index=dtindex)"
   ]
  },
  {
   "cell_type": "markdown",
   "id": "a22b2294",
   "metadata": {},
   "source": [
    "# The pd.to_datetime() method"
   ]
  },
  {
   "cell_type": "code",
   "execution_count": 38,
   "id": "475e4b06",
   "metadata": {},
   "outputs": [
    {
     "data": {
      "text/plain": [
       "Timestamp('2019-10-20 00:00:00')"
      ]
     },
     "execution_count": 38,
     "metadata": {},
     "output_type": "execute_result"
    }
   ],
   "source": [
    "pd.to_datetime(\"2019-10-20\")"
   ]
  },
  {
   "cell_type": "markdown",
   "id": "a0c7c9c8",
   "metadata": {},
   "source": [
    "# The pd.date_range() method"
   ]
  },
  {
   "cell_type": "code",
   "execution_count": null,
   "id": "1049ffde",
   "metadata": {},
   "outputs": [],
   "source": [
    "pd.date_range()"
   ]
  }
 ],
 "metadata": {
  "kernelspec": {
   "display_name": "Python 3",
   "language": "python",
   "name": "python3"
  },
  "language_info": {
   "codemirror_mode": {
    "name": "ipython",
    "version": 3
   },
   "file_extension": ".py",
   "mimetype": "text/x-python",
   "name": "python",
   "nbconvert_exporter": "python",
   "pygments_lexer": "ipython3",
   "version": "3.9.4"
  }
 },
 "nbformat": 4,
 "nbformat_minor": 5
}
