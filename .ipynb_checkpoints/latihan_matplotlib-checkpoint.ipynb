{
 "cells": [
  {
   "cell_type": "code",
   "execution_count": 40,
   "id": "26717da7-caf1-41e0-be7d-0a155d9731ed",
   "metadata": {},
   "outputs": [],
   "source": [
    "import pandas as pd\n",
    "import matplotlib.pyplot as plt\n",
    "import numpy as np"
   ]
  },
  {
   "cell_type": "code",
   "execution_count": 39,
   "id": "bf493441-f100-4e26-a81e-91605007bb48",
   "metadata": {},
   "outputs": [
    {
     "data": {
      "image/png": "[encoded data removed]",
      "text/plain": [
       "<Figure size 432x288 with 1 Axes>"
      ]
     },
     "metadata": {
      "needs_background": "light"
     },
     "output_type": "display_data"
    }
   ],
   "source": [
    "t = [20, 21, 22, 23, 24, 30]\n",
    "d = [25, 28, 30, 21, 28, 23]\n",
    "xlabel = pd.date_range(start=\"2021-01-01\", end=\"2021-12-31\", periods=6)\n",
    "xlabel = xlabel.map(lambda t: t.strftime('%Y-%m-%d'))\n",
    "df = pd.DataFrame(data=[d, t])\n",
    "df = df.transpose()\n",
    "df[\"date\"] = xlabel\n",
    "df.set_index(\"date\", inplace=True)\n",
    "plt.plot(df)\n",
    "plt.show()"
   ]
  },
  {
   "cell_type": "code",
   "execution_count": 49,
   "id": "2654d36a-5d75-4f73-a65b-b5725616f828",
   "metadata": {},
   "outputs": [
    {
     "data": {
      "text/plain": [
       "<matplotlib.collections.PathCollection at 0x11d7c6695b0>"
      ]
     },
     "execution_count": 49,
     "metadata": {},
     "output_type": "execute_result"
    },
    {
     "data": {
      "image/png": "[encoded data removed]",
      "text/plain": [
       "<Figure size 432x288 with 1 Axes>"
      ]
     },
     "metadata": {
      "needs_background": "light"
     },
     "output_type": "display_data"
    }
   ],
   "source": [
    "np.random.seed(42)\n",
    "r = np.random.rand(2, 100)\n",
    "plt.scatter(d, t)"
   ]
  },
  {
   "cell_type": "code",
   "execution_count": 79,
   "id": "df8b88a1-4b08-4752-b4d7-52cef8e16dc3",
   "metadata": {},
   "outputs": [
    {
     "data": {
      "text/html": [
       "<div>\n",
       "<style scoped>\n",
       "    .dataframe tbody tr th:only-of-type {\n",
       "        vertical-align: middle;\n",
       "    }\n",
       "\n",
       "    .dataframe tbody tr th {\n",
       "        vertical-align: top;\n",
       "    }\n",
       "\n",
       "    .dataframe thead th {\n",
       "        text-align: right;\n",
       "    }\n",
       "</style>\n",
       "<table border=\"1\" class=\"dataframe\">\n",
       "  <thead>\n",
       "    <tr style=\"text-align: right;\">\n",
       "      <th></th>\n",
       "      <th>Unnamed: 0</th>\n",
       "      <th>INDICATOR</th>\n",
       "      <th>SUBJECT</th>\n",
       "      <th>MEASURE</th>\n",
       "      <th>FREQUENCY</th>\n",
       "      <th>TIME</th>\n",
       "      <th>Value</th>\n",
       "      <th>Flag Codes</th>\n",
       "    </tr>\n",
       "    <tr>\n",
       "      <th>LOCATION</th>\n",
       "      <th></th>\n",
       "      <th></th>\n",
       "      <th></th>\n",
       "      <th></th>\n",
       "      <th></th>\n",
       "      <th></th>\n",
       "      <th></th>\n",
       "      <th></th>\n",
       "    </tr>\n",
       "  </thead>\n",
       "  <tbody>\n",
       "    <tr>\n",
       "      <th>AUS</th>\n",
       "      <td>0</td>\n",
       "      <td>CROPYIELD</td>\n",
       "      <td>WHEAT</td>\n",
       "      <td>TONNE_HA</td>\n",
       "      <td>A</td>\n",
       "      <td>2017</td>\n",
       "      <td>1.918</td>\n",
       "      <td>NaN</td>\n",
       "    </tr>\n",
       "    <tr>\n",
       "      <th>AUS</th>\n",
       "      <td>1</td>\n",
       "      <td>CROPYIELD</td>\n",
       "      <td>WHEAT</td>\n",
       "      <td>TONNE_HA</td>\n",
       "      <td>A</td>\n",
       "      <td>2018</td>\n",
       "      <td>1.692</td>\n",
       "      <td>NaN</td>\n",
       "    </tr>\n",
       "    <tr>\n",
       "      <th>AUS</th>\n",
       "      <td>2</td>\n",
       "      <td>CROPYIELD</td>\n",
       "      <td>WHEAT</td>\n",
       "      <td>TONNE_HA</td>\n",
       "      <td>A</td>\n",
       "      <td>2019</td>\n",
       "      <td>1.485</td>\n",
       "      <td>NaN</td>\n",
       "    </tr>\n",
       "    <tr>\n",
       "      <th>AUS</th>\n",
       "      <td>3</td>\n",
       "      <td>CROPYIELD</td>\n",
       "      <td>WHEAT</td>\n",
       "      <td>TONNE_HA</td>\n",
       "      <td>A</td>\n",
       "      <td>2020</td>\n",
       "      <td>2.400</td>\n",
       "      <td>NaN</td>\n",
       "    </tr>\n",
       "    <tr>\n",
       "      <th>AUS</th>\n",
       "      <td>4</td>\n",
       "      <td>CROPYIELD</td>\n",
       "      <td>WHEAT</td>\n",
       "      <td>TONNE_HA</td>\n",
       "      <td>A</td>\n",
       "      <td>2021</td>\n",
       "      <td>2.021</td>\n",
       "      <td>NaN</td>\n",
       "    </tr>\n",
       "  </tbody>\n",
       "</table>\n",
       "</div>"
      ],
      "text/plain": [
       "          Unnamed: 0  INDICATOR SUBJECT   MEASURE FREQUENCY  TIME  Value  \\\n",
       "LOCATION                                                                   \n",
       "AUS                0  CROPYIELD   WHEAT  TONNE_HA         A  2017  1.918   \n",
       "AUS                1  CROPYIELD   WHEAT  TONNE_HA         A  2018  1.692   \n",
       "AUS                2  CROPYIELD   WHEAT  TONNE_HA         A  2019  1.485   \n",
       "AUS                3  CROPYIELD   WHEAT  TONNE_HA         A  2020  2.400   \n",
       "AUS                4  CROPYIELD   WHEAT  TONNE_HA         A  2021  2.021   \n",
       "\n",
       "          Flag Codes  \n",
       "LOCATION              \n",
       "AUS              NaN  \n",
       "AUS              NaN  \n",
       "AUS              NaN  \n",
       "AUS              NaN  \n",
       "AUS              NaN  "
      ]
     },
     "execution_count": 79,
     "metadata": {},
     "output_type": "execute_result"
    }
   ],
   "source": [
    "df = pd.read_csv('agricultur_output.csv', index_col=\"LOCATION\")\n",
    "df.drop()\n",
    "df.head()"
   ]
  },
  {
   "cell_type": "code",
   "execution_count": 77,
   "id": "0077b40e-ef02-4c7c-b149-a5c9a9c1318c",
   "metadata": {},
   "outputs": [
    {
     "ename": "KeyError",
     "evalue": "\"None of ['LOCATION'] are in the columns\"",
     "output_type": "error",
     "traceback": [
      "\u001b[1;31m---------------------------------------------------------------------------\u001b[0m",
      "\u001b[1;31mKeyError\u001b[0m                                  Traceback (most recent call last)",
      "\u001b[1;32m<ipython-input-77-1387d1b3ccc2>\u001b[0m in \u001b[0;36m<module>\u001b[1;34m\u001b[0m\n\u001b[1;32m----> 1\u001b[1;33m \u001b[0mdf\u001b[0m \u001b[1;33m=\u001b[0m \u001b[0mdf\u001b[0m\u001b[1;33m.\u001b[0m\u001b[0mset_index\u001b[0m\u001b[1;33m(\u001b[0m\u001b[1;34m\"LOCATION\"\u001b[0m\u001b[1;33m,\u001b[0m \u001b[0minplace\u001b[0m\u001b[1;33m=\u001b[0m\u001b[1;32mTrue\u001b[0m\u001b[1;33m)\u001b[0m\u001b[1;33m\u001b[0m\u001b[1;33m\u001b[0m\u001b[0m\n\u001b[0m\u001b[0;32m      2\u001b[0m \u001b[0mdf\u001b[0m\u001b[1;33m\u001b[0m\u001b[1;33m\u001b[0m\u001b[0m\n\u001b[0;32m      3\u001b[0m \u001b[1;31m# group_by_location = df.groupby(by=\"LOCATION\", axis=0, as_index=True)\u001b[0m\u001b[1;33m\u001b[0m\u001b[1;33m\u001b[0m\u001b[1;33m\u001b[0m\u001b[0m\n\u001b[0;32m      4\u001b[0m \u001b[1;31m# group_by_location.head()\u001b[0m\u001b[1;33m\u001b[0m\u001b[1;33m\u001b[0m\u001b[1;33m\u001b[0m\u001b[0m\n",
      "\u001b[1;32mc:\\python39\\lib\\site-packages\\pandas\\core\\frame.py\u001b[0m in \u001b[0;36mset_index\u001b[1;34m(self, keys, drop, append, inplace, verify_integrity)\u001b[0m\n\u001b[0;32m   4725\u001b[0m \u001b[1;33m\u001b[0m\u001b[0m\n\u001b[0;32m   4726\u001b[0m         \u001b[1;32mif\u001b[0m \u001b[0mmissing\u001b[0m\u001b[1;33m:\u001b[0m\u001b[1;33m\u001b[0m\u001b[1;33m\u001b[0m\u001b[0m\n\u001b[1;32m-> 4727\u001b[1;33m             \u001b[1;32mraise\u001b[0m \u001b[0mKeyError\u001b[0m\u001b[1;33m(\u001b[0m\u001b[1;34mf\"None of {missing} are in the columns\"\u001b[0m\u001b[1;33m)\u001b[0m\u001b[1;33m\u001b[0m\u001b[1;33m\u001b[0m\u001b[0m\n\u001b[0m\u001b[0;32m   4728\u001b[0m \u001b[1;33m\u001b[0m\u001b[0m\n\u001b[0;32m   4729\u001b[0m         \u001b[1;32mif\u001b[0m \u001b[0minplace\u001b[0m\u001b[1;33m:\u001b[0m\u001b[1;33m\u001b[0m\u001b[1;33m\u001b[0m\u001b[0m\n",
      "\u001b[1;31mKeyError\u001b[0m: \"None of ['LOCATION'] are in the columns\""
     ]
    }
   ],
   "source": [
    "index = df.set_index(\"LOCATION\", inplace=True)\n",
    "# group_by_location = df.groupby(by=\"LOCATION\", axis=0, as_index=True)\n",
    "# group_by_location.head()"
   ]
  },
  {
   "cell_type": "code",
   "execution_count": null,
   "id": "c8f6bbee-6c20-4172-a65a-9432c7b9fcc8",
   "metadata": {},
   "outputs": [],
   "source": []
  }
 ],
 "metadata": {
  "kernelspec": {
   "display_name": "Python 3",
   "language": "python",
   "name": "python3"
  },
  "language_info": {
   "codemirror_mode": {
    "name": "ipython",
    "version": 3
   },
   "file_extension": ".py",
   "mimetype": "text/x-python",
   "name": "python",
   "nbconvert_exporter": "python",
   "pygments_lexer": "ipython3",
   "version": "3.9.4"
  }
 },
 "nbformat": 4,
 "nbformat_minor": 5
}
